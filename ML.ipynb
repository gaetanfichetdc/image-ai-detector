{
 "cells": [
  {
   "cell_type": "markdown",
   "id": "e59ad435",
   "metadata": {},
   "source": [
    "### Imports and device selection\n",
    "\n",
    "Load all PyTorch, torchvision, and plotting dependencies, then choose the fastest available accelerator (MPS/GPU/CPU) for training."
   ]
  },
  {
   "cell_type": "code",
   "execution_count": 24,
   "id": "c237682b",
   "metadata": {},
   "outputs": [
    {
     "name": "stdout",
     "output_type": "stream",
     "text": [
      "Using device: mps\n"
     ]
    }
   ],
   "source": [
    "# ------------------------\n",
    "# 1. Imports & setup\n",
    "# ------------------------\n",
    "import os\n",
    "import torch\n",
    "from torch import nn, optim\n",
    "from torch.utils.data import DataLoader\n",
    "from torchvision import datasets, transforms, models\n",
    "import matplotlib.pyplot as plt\n",
    "from sklearn.metrics import classification_report, confusion_matrix\n",
    "import seaborn as sns\n",
    "import cv2\n",
    "import numpy as np\n",
    "from torchvision import models\n",
    "from torch.nn import functional as F\n",
    "from pathlib import Path\n",
    "from shutil import copy2\n",
    "import json\n",
    "from PIL import Image\n",
    "import pandas as pd\n",
    "\n",
    "# Device: MPS (Apple Silicon GPU) if available, else CPU\n",
    "if torch.backends.mps.is_available():\n",
    "    device = torch.device(\"mps\")\n",
    "elif torch.cuda.is_available():\n",
    "    device = torch.device(\"cuda\")\n",
    "else:\n",
    "    device = torch.device(\"cpu\")\n",
    "\n",
    "print(\"Using device:\", device)"
   ]
  },
  {
   "cell_type": "markdown",
   "id": "7760d726",
   "metadata": {},
   "source": [
    "### Loaders and augmentations\n",
    "\n",
    "Apply light image augmentation for the training set, standard normalization, and build `DataLoader`s pointing at the `train/` and `test/` folders."
   ]
  },
  {
   "cell_type": "code",
   "execution_count": 14,
   "id": "fabc11e7",
   "metadata": {},
   "outputs": [
    {
     "name": "stdout",
     "output_type": "stream",
     "text": [
      "Classes: ['FAKE', 'REAL']\n"
     ]
    }
   ],
   "source": [
    "# ------------------------\n",
    "# 2. Data preparation\n",
    "# ------------------------\n",
    "train_transform = transforms.Compose([\n",
    "    transforms.Resize((224,224)),\n",
    "    transforms.RandomHorizontalFlip(),\n",
    "    transforms.ColorJitter(0.1,0.1,0.1),\n",
    "    transforms.ToTensor(),\n",
    "    transforms.Normalize([0.485,0.456,0.406],\n",
    "                         [0.229,0.224,0.225])\n",
    "])\n",
    "\n",
    "test_transform = transforms.Compose([\n",
    "    transforms.Resize((224,224)),\n",
    "    transforms.ToTensor(),\n",
    "    transforms.Normalize([0.485,0.456,0.406],\n",
    "                         [0.229,0.224,0.225])\n",
    "])\n",
    "\n",
    "train_dir = \"train\"\n",
    "test_dir = \"test\"\n",
    "\n",
    "train_dataset = datasets.ImageFolder(train_dir, transform=train_transform)\n",
    "test_dataset  = datasets.ImageFolder(test_dir,  transform=test_transform)\n",
    "\n",
    "train_loader = DataLoader(train_dataset, batch_size=32, shuffle=True)\n",
    "test_loader  = DataLoader(test_dataset, batch_size=32, shuffle=False)\n",
    "\n",
    "class_names = train_dataset.classes\n",
    "print(\"Classes:\", class_names)"
   ]
  },
  {
   "cell_type": "markdown",
   "id": "eaf2d31d",
   "metadata": {},
   "source": [
    "### Initialise transfer-learning backbone\n",
    "\n",
    "Start from ImageNet-pretrained ResNet‑18, replace the classifier head for two classes, and set up the loss/optimizer."
   ]
  },
  {
   "cell_type": "code",
   "execution_count": null,
   "id": "09304059",
   "metadata": {},
   "outputs": [],
   "source": [
    "# ------------------------\n",
    "# 3. Model (ResNet-18 for speed)\n",
    "# ------------------------\n",
    "model    = models.resnet18(weights=models.ResNet18_Weights.IMAGENET1K_V1)\n",
    "num_ftrs = model.fc.in_features\n",
    "model.fc = nn.Linear(num_ftrs, 2)  # binary classifier\n",
    "model    = model.to(device)\n",
    "\n",
    "criterion = nn.CrossEntropyLoss()\n",
    "optimizer = optim.Adam(model.parameters(), lr=1e-4)\n"
   ]
  },
  {
   "cell_type": "markdown",
   "id": "facfbe00",
   "metadata": {},
   "source": [
    "### Epoch loop\n",
    "\n",
    "Iterate over the loaders, update weights, and capture running loss/accuracy so we can inspect learning curves later."
   ]
  },
  {
   "cell_type": "code",
   "execution_count": 16,
   "id": "ea290fac",
   "metadata": {},
   "outputs": [
    {
     "name": "stdout",
     "output_type": "stream",
     "text": [
      "Epoch 1/3 - Loss: 0.1347 - Acc: 0.9481\n",
      "Epoch 2/3 - Loss: 0.0836 - Acc: 0.9689\n",
      "Epoch 3/3 - Loss: 0.0655 - Acc: 0.9760\n"
     ]
    }
   ],
   "source": [
    "# ------------------------\n",
    "# 4. Training loop\n",
    "# ------------------------\n",
    "def train_model(model, train_loader, test_loader, criterion, optimizer, epochs=3):\n",
    "    history = {\"loss\": [], \"acc\": []}\n",
    "\n",
    "    for epoch in range(epochs):\n",
    "        model.train()\n",
    "        running_loss, running_corrects = 0.0, 0\n",
    "\n",
    "        for inputs, labels in train_loader:\n",
    "            inputs, labels = inputs.to(device), labels.to(device)\n",
    "\n",
    "            optimizer.zero_grad()\n",
    "            outputs = model(inputs)\n",
    "            loss = criterion(outputs, labels)\n",
    "            loss.backward()\n",
    "            optimizer.step()\n",
    "\n",
    "            preds = torch.argmax(outputs, 1)\n",
    "            running_loss += loss.item() * inputs.size(0)\n",
    "            running_corrects += torch.sum(preds == labels).item()\n",
    "\n",
    "        epoch_loss = running_loss / len(train_loader.dataset)\n",
    "        epoch_acc = running_corrects / len(train_loader.dataset)\n",
    "        history[\"loss\"].append(epoch_loss)\n",
    "        history[\"acc\"].append(epoch_acc)\n",
    "\n",
    "        print(f\"Epoch {epoch + 1}/{epochs} - Loss: {epoch_loss:.4f} - Acc: {epoch_acc:.4f}\")\n",
    "\n",
    "    return model, history\n",
    "\n",
    "MODEL_PATH = Path(\"resnet18_fake_detector.pth\")\n",
    "HISTORY_PATH = Path(\"training_metrics.json\")\n",
    "\n",
    "history = None\n",
    "if MODEL_PATH.exists():\n",
    "    state_dict = torch.load(MODEL_PATH, map_location=device)\n",
    "    model.load_state_dict(state_dict)\n",
    "    print(f\"Loaded pretrained weights from {MODEL_PATH.resolve()}\")\n",
    "    if HISTORY_PATH.exists():\n",
    "        try:\n",
    "            saved_metrics = json.loads(HISTORY_PATH.read_text())\n",
    "            history = {\n",
    "                \"loss\": saved_metrics.get(\"loss\") or saved_metrics.get(\"losses\") or [],\n",
    "                \"acc\": saved_metrics.get(\"accuracy\") or saved_metrics.get(\"acc\") or [],\n",
    "            }\n",
    "            print(f\"Loaded training metrics from {HISTORY_PATH.resolve()}\")\n",
    "        except Exception as err:\n",
    "            print(f\"Warning: failed to load history from {HISTORY_PATH.name}: {err}\")\n",
    "            history = {\"loss\": [], \"acc\": []}\n",
    "    else:\n",
    "        print(\"No cached training metrics found; history will be empty.\")\n",
    "        history = {\"loss\": [], \"acc\": []}\n",
    "else:\n",
    "    model, history = train_model(model, train_loader, test_loader, criterion, optimizer, epochs=3)\n",
    "    torch.save(model.state_dict(), MODEL_PATH)\n",
    "    print(f\"Saved new weights to {MODEL_PATH.resolve()}\")\n",
    "\n",
    "if history is None:\n",
    "    history = {\"loss\": [], \"acc\": []}\n"
   ]
  },
  {
   "cell_type": "markdown",
   "id": "c741da7f",
   "metadata": {},
   "source": [
    "### Evaluate on hold-out images\n",
    "\n",
    "Switch to eval mode, accumulate predictions on the test loader, and report precision/recall plus a confusion matrix."
   ]
  },
  {
   "cell_type": "code",
   "execution_count": 17,
   "id": "5168e9da",
   "metadata": {},
   "outputs": [
    {
     "name": "stdout",
     "output_type": "stream",
     "text": [
      "\n",
      "Classification report:\n",
      "\n",
      "              precision    recall  f1-score   support\n",
      "\n",
      "        FAKE       0.97      0.98      0.98     10000\n",
      "        REAL       0.98      0.97      0.98     10000\n",
      "\n",
      "    accuracy                           0.98     20000\n",
      "   macro avg       0.98      0.98      0.98     20000\n",
      "weighted avg       0.98      0.98      0.98     20000\n",
      "\n"
     ]
    },
    {
     "data": {
      "image/png": "[encoded data removed]",
      "text/plain": [
       "<Figure size 640x480 with 2 Axes>"
      ]
     },
     "metadata": {},
     "output_type": "display_data"
    }
   ],
   "source": [
    "# ------------------------\n",
    "# 5. Evaluation\n",
    "# ------------------------\n",
    "model.eval()\n",
    "all_labels, all_preds = [], []\n",
    "\n",
    "with torch.no_grad():\n",
    "    for inputs, labels in test_loader:\n",
    "        inputs, labels = inputs.to(device), labels.to(device)\n",
    "        outputs = model(inputs)\n",
    "        preds = torch.argmax(outputs, 1)\n",
    "        all_labels.extend(labels.cpu().numpy())\n",
    "        all_preds.extend(preds.cpu().numpy())\n",
    "\n",
    "report_dict = classification_report(\n",
    "    all_labels,\n",
    "    all_preds,\n",
    "    target_names=class_names,\n",
    "    output_dict=True,\n",
    ")\n",
    "report_df = pd.DataFrame(report_dict).T\n",
    "\n",
    "print(\"\n",
    "Classification report (rounded):\n",
    "\")\n",
    "print(report_df.round(3))\n",
    "\n",
    "report_path = Path('classification_report.tsv')\n",
    "report_df.to_csv(report_path, sep='\t')\n",
    "print(f\"Saved classification report to {report_path.resolve()}\")\n",
    "\n",
    "# Confusion matrix\n",
    "cm = confusion_matrix(all_labels, all_preds)\n",
    "sns.heatmap(\n",
    "    cm,\n",
    "    annot=True,\n",
    "    fmt='d',\n",
    "    xticklabels=class_names,\n",
    "    yticklabels=class_names,\n",
    "    cmap='Blues',\n",
    ")\n",
    "plt.xlabel('Predicted')\n",
    "plt.ylabel('True')\n",
    "plt.show()\n"
   ]
  },
  {
   "cell_type": "markdown",
   "id": "12d77120",
   "metadata": {},
   "source": [
    "### Plot learning dynamics\n",
    "\n",
    "Visualise loss and accuracy history from training to confirm the model is converging."
   ]
  },
  {
   "cell_type": "code",
   "execution_count": 18,
   "id": "441dcf96",
   "metadata": {},
   "outputs": [
    {
     "data": {
      "image/png": "[encoded data removed]",
      "text/plain": [
       "<Figure size 640x480 with 1 Axes>"
      ]
     },
     "metadata": {},
     "output_type": "display_data"
    }
   ],
   "source": [
    "# ------------------------\n",
    "# 6. Training curves\n",
    "# ------------------------\n",
    "plt.plot(history['loss'], label='Loss')\n",
    "plt.plot(history['acc'], label='Accuracy')\n",
    "plt.legend()\n",
    "plt.title('Training history')\n",
    "plt.show()\n",
    "\n",
    "plot_payload = {\n",
    "    'epoch': list(range(1, len(history['loss']) + 1)),\n",
    "    'loss': history['loss'],\n",
    "    'accuracy': history['acc'],\n",
    "}\n",
    "plot_path = Path('training_metrics.json')\n",
    "plot_path.write_text(json.dumps(plot_payload, indent=2))\n",
    "print(f\"Saved training metrics to {plot_path.resolve()}\")\n"
   ]
  },
  {
   "cell_type": "markdown",
   "id": "0468cbeb",
   "metadata": {},
   "source": [
    "### Grad-CAM inspection\n",
    "\n",
    "Run single-image inference, backpropagate through the last conv block, and overlay the activation heatmap to explain each decision."
   ]
  },
  {
   "cell_type": "code",
   "execution_count": 28,
   "id": "7c163042",
   "metadata": {},
   "outputs": [
    {
     "name": "stdout",
     "output_type": "stream",
     "text": [
      "REAL IMAGE TEST\n"
     ]
    },
    {
     "data": {
      "image/png": "[encoded data removed]",
      "text/plain": [
       "<Figure size 800x400 with 2 Axes>"
      ]
     },
     "metadata": {},
     "output_type": "display_data"
    },
    {
     "name": "stdout",
     "output_type": "stream",
     "text": [
      "FAKE IMAGE TEST\n"
     ]
    },
    {
     "data": {
      "image/png": "[encoded data removed]",
      "text/plain": [
       "<Figure size 800x400 with 2 Axes>"
      ]
     },
     "metadata": {},
     "output_type": "display_data"
    }
   ],
   "source": [
    "# ------------------------\n",
    "# Single-image test with Grad-CAM\n",
    "# ------------------------\n",
    "\n",
    "def predict_and_gradcam(img_path, model, transform, class_names, target_layer):\n",
    "    img = Image.open(img_path).convert('RGB')\n",
    "    img_t = transform(img).unsqueeze(0).to(device)\n",
    "\n",
    "    activations = {}\n",
    "\n",
    "    def hook_fn(m, i, o):\n",
    "        activations['value'] = o\n",
    "        o.retain_grad()  # keep grad for non-leaf tensor\n",
    "\n",
    "    handle = target_layer.register_forward_hook(hook_fn)\n",
    "\n",
    "    model.eval()\n",
    "    outputs = model(img_t)\n",
    "    handle.remove()\n",
    "\n",
    "    probs = torch.softmax(outputs, dim=1)[0].detach().cpu().numpy()\n",
    "    pred_idx = int(np.argmax(probs))\n",
    "    pred_label = class_names[pred_idx]\n",
    "    confidence = float(probs[pred_idx] * 100)\n",
    "\n",
    "    # Backward pass for predicted class\n",
    "    model.zero_grad()\n",
    "    outputs[0, pred_idx].backward()\n",
    "\n",
    "    # Get grads + activations\n",
    "    grads = activations['value'].grad.detach().cpu()[0].numpy()\n",
    "    fmap = activations['value'].detach().cpu()[0].numpy()\n",
    "\n",
    "    weights = grads.mean(axis=(1, 2))  # importance per channel\n",
    "    cam = np.zeros(fmap.shape[1:], dtype=np.float32)\n",
    "\n",
    "    for i, w in enumerate(weights):\n",
    "        cam += w * fmap[i]\n",
    "\n",
    "    cam = np.maximum(cam, 0)\n",
    "    if cam.max() > 0:\n",
    "        cam /= cam.max()\n",
    "    cam = cv2.resize(cam, (img.size[0], img.size[1]))\n",
    "    heatmap = cv2.applyColorMap(np.uint8(255 * cam), cv2.COLORMAP_JET)\n",
    "    overlay = cv2.addWeighted(np.array(img), 0.5, heatmap, 0.5, 0)\n",
    "\n",
    "    # Show results\n",
    "    plt.figure(figsize=(8, 4))\n",
    "    plt.subplot(1, 2, 1)\n",
    "    plt.imshow(img)\n",
    "    plt.axis('off')\n",
    "    plt.title(f\"Prediction: {pred_label}\n",
    "({confidence:.1f}% confidence)\")\n",
    "\n",
    "    plt.subplot(1, 2, 2)\n",
    "    plt.imshow(overlay)\n",
    "    plt.axis('off')\n",
    "    plt.title('Grad-CAM Heatmap')\n",
    "    plt.show()\n",
    "\n",
    "    return {\n",
    "        'image_path': img_path,\n",
    "        'predicted_label': pred_label,\n",
    "        'confidence_percent': confidence,\n",
    "        'probabilities': probs.tolist(),\n",
    "    }\n",
    "\n",
    "# ------------------------\n",
    "# Pick one REAL and one FAKE from test set\n",
    "# ------------------------\n",
    "real_img_path, _ = [s for s in test_dataset.samples if 'REAL' in s[0]][0]\n",
    "fake_img_path, _ = [s for s in test_dataset.samples if 'FAKE' in s[0]][0]\n",
    "\n",
    "# Use the last conv layer of ResNet-18\n",
    "target_layer = model.layer4[1].conv2\n",
    "\n",
    "# Run predictions + heatmaps\n",
    "print('REAL IMAGE TEST')\n",
    "real_result = predict_and_gradcam(real_img_path, model, test_transform, class_names, target_layer)\n",
    "\n",
    "print('FAKE IMAGE TEST')\n",
    "fake_result = predict_and_gradcam(fake_img_path, model, test_transform, class_names, target_layer)\n"
   ]
  },
  {
   "cell_type": "code",
   "execution_count": null,
   "id": "7175b5f1",
   "metadata": {},
   "outputs": [],
   "source": [
    "# ------------------------\n",
    "# 7. Export artefacts\n",
    "# ------------------------\n",
    "root_dir = Path.cwd()\n",
    "\n",
    "# Copy inspected images to notebook root\n",
    "images_to_copy = [\n",
    "    ('real', Path(real_result['image_path'])),\n",
    "    ('fake', Path(fake_result['image_path'])),\n",
    "]\n",
    "manifest = {\n",
    "    'training_metrics_json': Path('training_metrics.json').name,\n",
    "    'classification_report_tsv': Path('classification_report.tsv').name,\n",
    "    'examples': [],\n",
    "}\n",
    "\n",
    "for label, src in images_to_copy:\n",
    "    dst = root_dir / src.name\n",
    "    if not dst.exists() or src.resolve() != dst.resolve():\n",
    "        copy2(src, dst)\n",
    "    result = real_result if label == 'real' else fake_result\n",
    "    manifest['examples'].append(\n",
    "        {\n",
    "            'type': label,\n",
    "            'image_filename': dst.name,\n",
    "            'prediction': result['predicted_label'],\n",
    "            'confidence_percent': result['confidence_percent'],\n",
    "            'probabilities': result['probabilities'],\n",
    "        }\n",
    "    )\n",
    "\n",
    "manifest_path = Path('gradcam_results.json')\n",
    "manifest_path.write_text(json.dumps(manifest, indent=2))\n",
    "print(f\"Saved Grad-CAM manifest to {manifest_path.resolve()}\")\n"
   ]
  }
 ],
 "metadata": {
  "kernelspec": {
   "display_name": "Python 3",
   "language": "python",
   "name": "python3"
  },
  "language_info": {
   "codemirror_mode": {
    "name": "ipython",
    "version": 3
   },
   "file_extension": ".py",
   "mimetype": "text/x-python",
   "name": "python",
   "nbconvert_exporter": "python",
   "pygments_lexer": "ipython3",
   "version": "3.12.7"
  }
 },
 "nbformat": 4,
 "nbformat_minor": 5
}
